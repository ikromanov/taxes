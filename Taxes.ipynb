{
 "cells": [
  {
   "cell_type": "code",
   "execution_count": 1,
   "id": "8cd34dfb",
   "metadata": {},
   "outputs": [],
   "source": [
    "import pandas as pd\n",
    "import numpy as np"
   ]
  },
  {
   "cell_type": "markdown",
   "id": "b1c94957",
   "metadata": {},
   "source": [
    "## Federal tax bracket 2025 (Married Filing Jointly)\n",
    "| Tax rate | on taxable income from | up to |\n",
    "| --- | --- | --- |\n",
    "| 10% | \\$0 | \\$23,200 |\n",
    "| 12% | \\$23,201 | \\$94,300 |\n",
    "| 22% | \\$94,301  | \\$201,050 |\n",
    "| 24% | \\$201,051 | \\$383,900 |\n",
    "| 32% | \\$383,901 | \\$487,450 |\n",
    "| 35% | \\$487,451 | \\$731,200 |\n",
    "| 37% | \\$731,201 | And up | "
   ]
  },
  {
   "cell_type": "code",
   "execution_count": 2,
   "id": "d8680f00",
   "metadata": {},
   "outputs": [],
   "source": [
    "FED_TAX_BRACKETS_2025 = [0, 23200, 94300, 201050, 383900, 487450, 731200]\n",
    "FED_TAX_RATES_2025 = [.1, .12, .22, .24, .32, .35, .37]\n",
    "FED_DEDUCTION_2025 = 29200\n",
    "\n",
    "ivan_w2 = 292060.68\n",
    "olga_w2 = 325953.54\n",
    "other_income = 2178 + 2807 + 2477\n",
    "\n",
    "ivan_401k = 23000\n",
    "olga_401k = 23000"
   ]
  },
  {
   "cell_type": "code",
   "execution_count": 3,
   "id": "1c51eef6",
   "metadata": {},
   "outputs": [],
   "source": [
    "import taxes\n",
    "\n",
    "total_income = ivan_w2 + olga_w2\n",
    "total_401k = ivan_401k + olga_401k\n",
    "\n",
    "\n",
    "taxes_2024_pa = taxes.Income(ivan_w2, olga_w2, other_income, total_401k, state=\"PA\")\n",
    "taxes_2024_ny = taxes.Income(ivan_w2, olga_w2, other_income, total_401k, state=\"NY\")\n",
    "\n",
    "taxes_2024 = taxes_2024_pa"
   ]
  },
  {
   "cell_type": "code",
   "execution_count": 4,
   "id": "149ebb1d",
   "metadata": {},
   "outputs": [
    {
     "name": "stdout",
     "output_type": "stream",
     "text": [
      "Total Income:  625476.22\n",
      "Medicare taxes: 12448.69598\n",
      "Social Security taxes: 20906.4\n",
      "Taxable income: 550276.22\n",
      "Federal taxes: 133346\n",
      "State taxes: 19389.76\n",
      "Local taxes: 6254.76\n",
      "Taxable income: 550276.22\n",
      "Total taxes: 192345.62\n"
     ]
    }
   ],
   "source": [
    "taxes_2024.print_summary()"
   ]
  },
  {
   "cell_type": "code",
   "execution_count": 5,
   "id": "db37db93",
   "metadata": {},
   "outputs": [
    {
     "name": "stdout",
     "output_type": "stream",
     "text": [
      "Total Income:  625476.22\n",
      "Medicare taxes: 12448.69598\n",
      "Social Security taxes: 20906.4\n",
      "Taxable income: 550276.22\n",
      "Federal taxes: 133346\n",
      "State taxes: 19389.76\n",
      "Local taxes: 6254.76\n",
      "Taxable income: 550276.22\n",
      "Total taxes: 192345.62\n"
     ]
    }
   ],
   "source": [
    "taxes_2024_pa.print_summary()"
   ]
  },
  {
   "cell_type": "code",
   "execution_count": 6,
   "id": "0e19d218",
   "metadata": {},
   "outputs": [
    {
     "name": "stdout",
     "output_type": "stream",
     "text": [
      "Total Income:  625476.22\n",
      "Medicare taxes: 12448.69598\n",
      "Social Security taxes: 20906.4\n",
      "Taxable income: 550276.22\n",
      "Federal taxes: 133346\n",
      "State taxes: 34707\n",
      "Local taxes: 25019.05\n",
      "Taxable income: 550276.22\n",
      "Total taxes: 226427.15\n"
     ]
    }
   ],
   "source": [
    "taxes_2024_ny.print_summary()"
   ]
  },
  {
   "cell_type": "code",
   "execution_count": 6,
   "id": "4b2ecd51",
   "metadata": {
    "scrolled": false
   },
   "outputs": [
    {
     "data": {
      "text/plain": [
       "133346"
      ]
     },
     "execution_count": 6,
     "metadata": {},
     "output_type": "execute_result"
    }
   ],
   "source": [
    "taxes_2024.fed_tax()"
   ]
  },
  {
   "cell_type": "code",
   "execution_count": 7,
   "id": "669433e0",
   "metadata": {
    "scrolled": true
   },
   "outputs": [
    {
     "data": {
      "text/plain": [
       "19389.76"
      ]
     },
     "execution_count": 7,
     "metadata": {},
     "output_type": "execute_result"
    }
   ],
   "source": [
    "taxes_2024.state_tax()"
   ]
  },
  {
   "cell_type": "code",
   "execution_count": 22,
   "id": "3d2724fe",
   "metadata": {},
   "outputs": [
    {
     "name": "stdout",
     "output_type": "stream",
     "text": [
      "Taxes paid: 206169\n"
     ]
    }
   ],
   "source": [
    "paid = (63603 + 10453 + 5859 + 26450 + 3028) + (62267 + 10453 + 5063 + 18993)\n",
    "print(\"Taxes paid:\", paid)"
   ]
  },
  {
   "cell_type": "code",
   "execution_count": 23,
   "id": "bd536361",
   "metadata": {},
   "outputs": [
    {
     "data": {
      "text/plain": [
       "0.3009"
      ]
     },
     "execution_count": 23,
     "metadata": {},
     "output_type": "execute_result"
    }
   ],
   "source": [
    "taxes_2024.eff_tax_rate()"
   ]
  },
  {
   "cell_type": "code",
   "execution_count": 13,
   "id": "7211e9ea",
   "metadata": {},
   "outputs": [
    {
     "name": "stdout",
     "output_type": "stream",
     "text": [
      "Taxable income: 547799.22\n"
     ]
    },
    {
     "data": {
      "text/plain": [
       "0.2126471362195285"
      ]
     },
     "execution_count": 13,
     "metadata": {},
     "output_type": "execute_result"
    }
   ],
   "source": [
    "taxes_2024.fed_tax() / taxes_2024.income"
   ]
  },
  {
   "cell_type": "code",
   "execution_count": 26,
   "id": "449a062e",
   "metadata": {},
   "outputs": [
    {
     "data": {
      "text/plain": [
       "572014.22"
      ]
     },
     "execution_count": 26,
     "metadata": {},
     "output_type": "execute_result"
    }
   ],
   "source": [
    "box_1_olga = 302953.54\n",
    "box_1_ivan = 269060.68\n",
    "box_1_olga + box_1_ivan"
   ]
  },
  {
   "cell_type": "markdown",
   "id": "a5feab1e",
   "metadata": {},
   "source": [
    "### Interest (1099-INT from Marcus)"
   ]
  },
  {
   "cell_type": "code",
   "execution_count": 30,
   "id": "00207a64",
   "metadata": {},
   "outputs": [
    {
     "data": {
      "text/plain": [
       "2177.3700000000003"
      ]
     },
     "execution_count": 30,
     "metadata": {},
     "output_type": "execute_result"
    }
   ],
   "source": [
    "marcus_interest = 322.23 + 250.64 + 560.68 + 39.24 + 869.38 + (243.32 - 329.17) + 220.65 + .4\n",
    "schwab_interest = 0\n",
    "\n",
    "interest = marcus_interest + schwab_interest\n",
    "interest"
   ]
  },
  {
   "cell_type": "code",
   "execution_count": 14,
   "id": "945f4338",
   "metadata": {},
   "outputs": [
    {
     "data": {
      "text/plain": [
       "579475"
      ]
     },
     "execution_count": 14,
     "metadata": {},
     "output_type": "execute_result"
    }
   ],
   "source": [
    "572014 + 2177 + 2807 + 2477"
   ]
  },
  {
   "cell_type": "code",
   "execution_count": 15,
   "id": "e770c6f3",
   "metadata": {},
   "outputs": [
    {
     "data": {
      "text/plain": [
       "550275"
      ]
     },
     "execution_count": 15,
     "metadata": {},
     "output_type": "execute_result"
    }
   ],
   "source": [
    "579475 - 29200"
   ]
  },
  {
   "cell_type": "code",
   "execution_count": 22,
   "id": "36db2431",
   "metadata": {},
   "outputs": [
    {
     "data": {
      "text/plain": [
       "9069.40519"
      ]
     },
     "execution_count": 22,
     "metadata": {},
     "output_type": "execute_result"
    }
   ],
   "source": [
    "625476.22 * 0.0145"
   ]
  },
  {
   "cell_type": "code",
   "execution_count": 23,
   "id": "c3d42f49",
   "metadata": {},
   "outputs": [
    {
     "data": {
      "text/plain": [
       "0.01733547901116209"
      ]
     },
     "execution_count": 23,
     "metadata": {},
     "output_type": "execute_result"
    }
   ],
   "source": [
    "5063/292060"
   ]
  },
  {
   "cell_type": "code",
   "execution_count": 24,
   "id": "558eacee",
   "metadata": {},
   "outputs": [
    {
     "data": {
      "text/plain": [
       "0.017974984123477925"
      ]
     },
     "execution_count": 24,
     "metadata": {},
     "output_type": "execute_result"
    }
   ],
   "source": [
    "5859/325953"
   ]
  },
  {
   "cell_type": "code",
   "execution_count": 6,
   "id": "0ad03dad",
   "metadata": {},
   "outputs": [],
   "source": [
    "tax_paid = 62267 + 63603.33\n",
    "tax_due = 133346\n",
    "tax_balance = tax_due - tax_paid"
   ]
  },
  {
   "cell_type": "code",
   "execution_count": 7,
   "id": "23d0c29c",
   "metadata": {},
   "outputs": [
    {
     "data": {
      "text/plain": [
       "7475.669999999998"
      ]
     },
     "execution_count": 7,
     "metadata": {},
     "output_type": "execute_result"
    }
   ],
   "source": [
    "tax_balance"
   ]
  },
  {
   "cell_type": "code",
   "execution_count": 8,
   "id": "c7c03d2b",
   "metadata": {},
   "outputs": [],
   "source": [
    "medicare_balance = 12448 - (5063 + 5859)\n",
    "tax = tax_balance + medicare_balance"
   ]
  },
  {
   "cell_type": "code",
   "execution_count": 9,
   "id": "c35cb0a9",
   "metadata": {},
   "outputs": [
    {
     "data": {
      "text/plain": [
       "9001.669999999998"
      ]
     },
     "execution_count": 9,
     "metadata": {},
     "output_type": "execute_result"
    }
   ],
   "source": [
    "tax"
   ]
  },
  {
   "cell_type": "code",
   "execution_count": 10,
   "id": "a9a9891e",
   "metadata": {},
   "outputs": [
    {
     "data": {
      "text/plain": [
       "125870.33"
      ]
     },
     "execution_count": 10,
     "metadata": {},
     "output_type": "execute_result"
    }
   ],
   "source": [
    "tax_paid"
   ]
  },
  {
   "cell_type": "code",
   "execution_count": 11,
   "id": "0fefcf0b",
   "metadata": {},
   "outputs": [
    {
     "data": {
      "text/plain": [
       "7476"
      ]
     },
     "execution_count": 11,
     "metadata": {},
     "output_type": "execute_result"
    }
   ],
   "source": [
    "133346 - 125870"
   ]
  },
  {
   "cell_type": "code",
   "execution_count": 12,
   "id": "2856fd39",
   "metadata": {},
   "outputs": [
    {
     "data": {
      "text/plain": [
       "563425"
      ]
     },
     "execution_count": 12,
     "metadata": {},
     "output_type": "execute_result"
    }
   ],
   "source": [
    "579475 - 16050"
   ]
  },
  {
   "cell_type": "code",
   "execution_count": 8,
   "id": "d4c96b31",
   "metadata": {},
   "outputs": [
    {
     "data": {
      "text/plain": [
       "34260.13184002761"
      ]
     },
     "execution_count": 8,
     "metadata": {},
     "output_type": "execute_result"
    }
   ],
   "source": [
    "572014/579475 * 34707"
   ]
  },
  {
   "cell_type": "code",
   "execution_count": 10,
   "id": "8d5d6c6b",
   "metadata": {},
   "outputs": [
    {
     "data": {
      "text/plain": [
       "11184.260000000002"
      ]
     },
     "execution_count": 10,
     "metadata": {},
     "output_type": "execute_result"
    }
   ],
   "source": [
    "18993.86 + 26450.4 - 34260"
   ]
  },
  {
   "cell_type": "code",
   "execution_count": null,
   "id": "caeae924",
   "metadata": {},
   "outputs": [],
   "source": []
  }
 ],
 "metadata": {
  "kernelspec": {
   "display_name": "Python 3 (ipykernel)",
   "language": "python",
   "name": "python3"
  },
  "language_info": {
   "codemirror_mode": {
    "name": "ipython",
    "version": 3
   },
   "file_extension": ".py",
   "mimetype": "text/x-python",
   "name": "python",
   "nbconvert_exporter": "python",
   "pygments_lexer": "ipython3",
   "version": "3.7.13"
  }
 },
 "nbformat": 4,
 "nbformat_minor": 5
}
